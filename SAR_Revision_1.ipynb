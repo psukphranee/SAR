{
  "nbformat": 4,
  "nbformat_minor": 0,
  "metadata": {
    "colab": {
      "name": "SAR - Revision 1.ipynb",
      "provenance": [],
      "authorship_tag": "ABX9TyMSjp+8GyDuBhRMe4vE+Jbw",
      "include_colab_link": true
    },
    "kernelspec": {
      "name": "python3",
      "display_name": "Python 3"
    },
    "language_info": {
      "name": "python"
    },
    "widgets": {
      "application/vnd.jupyter.widget-state+json": {
        "fe8e238c05e042818ec91e5173527741": {
          "model_module": "@jupyter-widgets/controls",
          "model_name": "ButtonModel",
          "model_module_version": "1.5.0",
          "state": {
            "_dom_classes": [],
            "_model_module": "@jupyter-widgets/controls",
            "_model_module_version": "1.5.0",
            "_model_name": "ButtonModel",
            "_view_count": null,
            "_view_module": "@jupyter-widgets/controls",
            "_view_module_version": "1.5.0",
            "_view_name": "ButtonView",
            "button_style": "",
            "description": "Click Me!",
            "disabled": false,
            "icon": "",
            "layout": "IPY_MODEL_feaab92fa4e04999ae309afa8ffe381f",
            "style": "IPY_MODEL_97d339e2dfab48c1b62ed51f396993a3",
            "tooltip": ""
          }
        },
        "feaab92fa4e04999ae309afa8ffe381f": {
          "model_module": "@jupyter-widgets/base",
          "model_name": "LayoutModel",
          "model_module_version": "1.2.0",
          "state": {
            "_model_module": "@jupyter-widgets/base",
            "_model_module_version": "1.2.0",
            "_model_name": "LayoutModel",
            "_view_count": null,
            "_view_module": "@jupyter-widgets/base",
            "_view_module_version": "1.2.0",
            "_view_name": "LayoutView",
            "align_content": null,
            "align_items": null,
            "align_self": null,
            "border": null,
            "bottom": null,
            "display": null,
            "flex": null,
            "flex_flow": null,
            "grid_area": null,
            "grid_auto_columns": null,
            "grid_auto_flow": null,
            "grid_auto_rows": null,
            "grid_column": null,
            "grid_gap": null,
            "grid_row": null,
            "grid_template_areas": null,
            "grid_template_columns": null,
            "grid_template_rows": null,
            "height": null,
            "justify_content": null,
            "justify_items": null,
            "left": null,
            "margin": null,
            "max_height": null,
            "max_width": null,
            "min_height": null,
            "min_width": null,
            "object_fit": null,
            "object_position": null,
            "order": null,
            "overflow": null,
            "overflow_x": null,
            "overflow_y": null,
            "padding": null,
            "right": null,
            "top": null,
            "visibility": null,
            "width": null
          }
        },
        "97d339e2dfab48c1b62ed51f396993a3": {
          "model_module": "@jupyter-widgets/controls",
          "model_name": "ButtonStyleModel",
          "model_module_version": "1.5.0",
          "state": {
            "_model_module": "@jupyter-widgets/controls",
            "_model_module_version": "1.5.0",
            "_model_name": "ButtonStyleModel",
            "_view_count": null,
            "_view_module": "@jupyter-widgets/base",
            "_view_module_version": "1.2.0",
            "_view_name": "StyleView",
            "button_color": null,
            "font_weight": ""
          }
        },
        "be81f267d1414703b0ce3c66461e1d2c": {
          "model_module": "@jupyter-widgets/output",
          "model_name": "OutputModel",
          "model_module_version": "1.0.0",
          "state": {
            "_dom_classes": [],
            "_model_module": "@jupyter-widgets/output",
            "_model_module_version": "1.0.0",
            "_model_name": "OutputModel",
            "_view_count": null,
            "_view_module": "@jupyter-widgets/output",
            "_view_module_version": "1.0.0",
            "_view_name": "OutputView",
            "layout": "IPY_MODEL_80150795a2324514b43ec8a20c5f803c",
            "msg_id": "",
            "outputs": [
              {
                "output_type": "stream",
                "name": "stdout",
                "text": [
                  "Button clicked.\n"
                ]
              },
              {
                "output_type": "stream",
                "name": "stdout",
                "text": [
                  "Button clicked.\n"
                ]
              },
              {
                "output_type": "stream",
                "name": "stdout",
                "text": [
                  "Button clicked.\n"
                ]
              },
              {
                "output_type": "stream",
                "name": "stdout",
                "text": [
                  "Button clicked.\n"
                ]
              },
              {
                "output_type": "stream",
                "name": "stdout",
                "text": [
                  "Button clicked.\n"
                ]
              },
              {
                "output_type": "stream",
                "name": "stdout",
                "text": [
                  "Button clicked.\n"
                ]
              }
            ]
          }
        },
        "80150795a2324514b43ec8a20c5f803c": {
          "model_module": "@jupyter-widgets/base",
          "model_name": "LayoutModel",
          "model_module_version": "1.2.0",
          "state": {
            "_model_module": "@jupyter-widgets/base",
            "_model_module_version": "1.2.0",
            "_model_name": "LayoutModel",
            "_view_count": null,
            "_view_module": "@jupyter-widgets/base",
            "_view_module_version": "1.2.0",
            "_view_name": "LayoutView",
            "align_content": null,
            "align_items": null,
            "align_self": null,
            "border": null,
            "bottom": null,
            "display": null,
            "flex": null,
            "flex_flow": null,
            "grid_area": null,
            "grid_auto_columns": null,
            "grid_auto_flow": null,
            "grid_auto_rows": null,
            "grid_column": null,
            "grid_gap": null,
            "grid_row": null,
            "grid_template_areas": null,
            "grid_template_columns": null,
            "grid_template_rows": null,
            "height": null,
            "justify_content": null,
            "justify_items": null,
            "left": null,
            "margin": null,
            "max_height": null,
            "max_width": null,
            "min_height": null,
            "min_width": null,
            "object_fit": null,
            "object_position": null,
            "order": null,
            "overflow": null,
            "overflow_x": null,
            "overflow_y": null,
            "padding": null,
            "right": null,
            "top": null,
            "visibility": null,
            "width": null
          }
        }
      }
    }
  },
  "cells": [
    {
      "cell_type": "markdown",
      "metadata": {
        "id": "view-in-github",
        "colab_type": "text"
      },
      "source": [
        "<a href=\"https://colab.research.google.com/github/psukphranee/SAR/blob/main/SAR_Revision_1.ipynb\" target=\"_parent\"><img src=\"https://colab.research.google.com/assets/colab-badge.svg\" alt=\"Open In Colab\"/></a>"
      ]
    },
    {
      "cell_type": "code",
      "execution_count": 7,
      "metadata": {
        "id": "e25qgIVtqC1X"
      },
      "outputs": [],
      "source": [
        "import matplotlib.pyplot as plt\n",
        "import numpy as np\n",
        "import math\n",
        "import os\n",
        "import scipy.sparse as sp"
      ]
    },
    {
      "cell_type": "markdown",
      "source": [
        "#I. Introduction\n",
        "\n",
        "> A satellite antenna emits a chirp pulse train towards the ground some distance away. The signal has a PRF of 10kHz with 10% duty-time. The signal bounces off of the ground directly back at the antenna. The antenna picks the signal up at a sampling rate of 1GHz. The ground will be model as an LTI system. Thus, the reflected signal is the convolution of the incoming signal (incoming into the ground) with the impulse response of the ground.\n",
        "\n",
        " > This notebook will give a rundown of the principles involved and implementation details and logic using Python. \n",
        "\n",
        " Steps involved are **Pulse Generation**, input into **Ground Model**, and examine the **Output**.\n",
        "\n"
      ],
      "metadata": {
        "id": "QYLUiUWEqHAS"
      }
    },
    {
      "cell_type": "markdown",
      "source": [
        "# II. Pulse Generation\n",
        "\n",
        "The signal is described by\n",
        "\n",
        "$P(t) = \\chi_{\\tau}(t) e^{j 2 \\pi (f_c t + \\frac{1}{2}k t^2)}$,\n",
        "where \n",
        "$\n",
        "\\chi_{\\tau}(t)=\n",
        "    \\begin{cases}\n",
        "        A & \\text{if } t \\in [0, \\tau] \\\\\n",
        "        0 & otherwise\n",
        "    \\end{cases}\n",
        "$\n",
        "\n",
        "## A. Carrier Frequency and Chirp Rate Constraints\n",
        "The **pulse width**, $\\tau$, is calculated as the duty time divided by the pulse repetition frequency,\n",
        "\n",
        "$\n",
        "\\tau = \\dfrac{D}{PRF} = \\dfrac{.1}{10^4} = 10^{-5}s.\n",
        "$\n",
        "\n",
        "We can choose our carrier frequency and chirp rate so that we don't exceed $f_m = 500MHz$ over the pulse duration $\\tau$.\n",
        "\n",
        "$f_c + \\dfrac{10^{-5}}{2}k < 500MHz$."
      ],
      "metadata": {
        "id": "KhcJ953Breyt"
      }
    },
    {
      "cell_type": "code",
      "source": [
        "import ipywidgets as widgets\n",
        "from IPython.display import display\n",
        "button = widgets.Button(description=\"Click Me!\")\n",
        "output = widgets.Output()\n",
        "\n",
        "#@title Pulse Parameters\n",
        "#@markdown Duty Time:  $[\\%]$\n",
        "D = 10 #@param {type:\"slider\", min:0, max:100, step:1}\n",
        "#@markdown Pulse Reptitition Frequency (PRF) $[kHz]$\n",
        "PRF = 1 #@param {type:\"slider\", min:0, max:20, step:1}\n",
        "#@markdown $k:  [\\frac{MHz}{s}]$\n",
        "k = 26 #@param {type:\"slider\", min:0, max:100, step:1}\n",
        "#@markdown Carrier Frequency:  $[MHz]$\n",
        "f_c = 100 #@param {type:\"slider\", min:0, max:500, step:5}\n",
        "#@markdown Sampling Frequency:  $[MHz]$\n",
        "f_s = 100 #@param {type:\"slider\", min:0, max:500, step:5}\n",
        "\n",
        "#scale input parameters by their suffix\n",
        "D = D * .01;\n",
        "PRF = PRF * 10e3;\n",
        "k = k * 10e6;\n",
        "f_c = f_c * 10e6;\n",
        "f_s = f_s * 10e6;\n",
        "\n",
        "#calculate other parameters from input parameters\n",
        "PRT = np.reciprocal(PRF);\n",
        "f_m = f_s/2;\n",
        "tau = D*PRT;\n",
        "\n",
        "#\n",
        "A = 1 #pulse height"
      ],
      "metadata": {
        "id": "7V0HR_TftXek"
      },
      "execution_count": null,
      "outputs": []
    },
    {
      "cell_type": "code",
      "source": [
        "#@title Default title text\n",
        "def on_button_clicked(b):\n",
        "\n",
        "  # Display the message within the output widget.\n",
        "  t_end = PRT*4 #multiple of pulse repittion period\n",
        "  t = np.linspace(-1*PRT, t_end, int(f_s*t_end)).reshape(1,-1)\n",
        "  t_mod = np.mod(t, PRT)\n",
        "\n",
        "  pulse = generate_LFM_Pulse(time_array=t_mod, pulse_width=tau, pulse_height=1, chirp_rate=k, carrier_frequency=f_c)\n",
        "\n",
        "  plt.figure(figsize=(16, 12))\n",
        "  plt.plot(t[0,:], pulse[0,:], alpha=0.5)\n",
        "  plt.show()\n",
        "\n",
        "  with output:\n",
        "    print(\"Button clicked.\")\n",
        "\n",
        "button.on_click(on_button_clicked)\n",
        "display(button, output)"
      ],
      "metadata": {
        "colab": {
          "base_uri": "https://localhost:8080/",
          "height": 156,
          "referenced_widgets": [
            "fe8e238c05e042818ec91e5173527741",
            "feaab92fa4e04999ae309afa8ffe381f",
            "97d339e2dfab48c1b62ed51f396993a3",
            "be81f267d1414703b0ce3c66461e1d2c",
            "80150795a2324514b43ec8a20c5f803c"
          ]
        },
        "id": "ytxxndMf1tsV",
        "outputId": "3d22bb63-33f0-427c-b263-d681ffe49cda"
      },
      "execution_count": 19,
      "outputs": [
        {
          "output_type": "display_data",
          "data": {
            "text/plain": [
              "Button(description='Click Me!', style=ButtonStyle())"
            ],
            "application/vnd.jupyter.widget-view+json": {
              "version_major": 2,
              "version_minor": 0,
              "model_id": "fe8e238c05e042818ec91e5173527741"
            }
          },
          "metadata": {}
        },
        {
          "output_type": "display_data",
          "data": {
            "text/plain": [
              "Output()"
            ],
            "application/vnd.jupyter.widget-view+json": {
              "version_major": 2,
              "version_minor": 0,
              "model_id": "be81f267d1414703b0ce3c66461e1d2c"
            }
          },
          "metadata": {}
        }
      ]
    },
    {
      "cell_type": "code",
      "source": [
        "def generate_pulse_envelope(time_array, pulse_width=1e-5, pulse_height=1):\n",
        "  #this function returns pulse envelopes of tau width wide. the left edge of the envelope is located at any zeros of the time array.\n",
        "\n",
        "  t = time_array;\n",
        "  A = pulse_height;\n",
        "  tau = pulse_width; \n",
        "  tau_half = tau/2;\n",
        "\n",
        "  chi = A * (np.abs((t-tau_half)/tau_half) <= 1);\n",
        "\n",
        "  return chi;\n",
        "\n",
        "#---------------------------------------------------------------------------------------------#\n",
        "def generate_pulse_wave(time_array, chirp_rate=0, carrier_frequency=500e6):\n",
        "  #time ---------------\n",
        "  t = time_array #expected time vector should be preprocessed before passed to this function. pulse and envelope start their sequences at times values of zeros.\n",
        "\n",
        "  #LFM  ---------------\n",
        "  k = chirp_rate\n",
        "  f_c = carrier_frequency\n",
        "  # #argument to be passed to exponenetial \n",
        "  exp_arg = 2j*np.pi*(f_c*t + .5*k*(np.square(t)))\n",
        "  LFM = np.exp(exp_arg);\n",
        "\n",
        "  return LFM\n",
        "\n",
        "#---------------------------------------------------------------------------------------------#\n",
        "def generate_LFM_Pulse(time_array, pulse_width=1, pulse_height=1, chirp_rate=1, carrier_frequency=100):\n",
        "  \n",
        "  #time ---------------\n",
        "  t = time_array #expected time vector should be preprocessed before passed to this function. pulse and envelope start their sequences at times values of zeros.\n",
        "\n",
        "  #pulse envelope  ---------------\n",
        "  chi = generate_pulse_envelope(t, pulse_height=pulse_height, pulse_width=pulse_width);\n",
        "\n",
        "  #LFM  ---------------\n",
        "  k = chirp_rate\n",
        "  f_c = carrier_frequency\n",
        "\n",
        "  LFM = generate_pulse_wave(t, k, f_c)\n",
        "\n",
        "  pulse = chi * LFM;\n",
        "\n",
        "  return pulse\n",
        "\n",
        "#---------------------------------------------------------------------------------------------#\n",
        "def plot_train(time_absolute, time_modulus, train):\n",
        "\n",
        "  fig, ax = plt.subplots(2,1, figsize=(20,8))\n",
        "  ax[0].plot(t[0,:], train[0,:], alpha=0.5)\n",
        "  ax[1].plot(t[0,:], t_mod[0,:], alpha=0.5)\n",
        "\n",
        "  # ax[0].set_title(\"Pulse Envelope\")\n",
        "  ax[1].set_title(\"Verify Periodicity\")\n",
        "  plt.show()"
      ],
      "metadata": {
        "id": "vGtblwLiqLLz"
      },
      "execution_count": 4,
      "outputs": []
    },
    {
      "cell_type": "markdown",
      "source": [
        ""
      ],
      "metadata": {
        "id": "bski0nNkqbnF"
      }
    }
  ]
}