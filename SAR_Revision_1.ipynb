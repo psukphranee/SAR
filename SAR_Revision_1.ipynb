{
  "nbformat": 4,
  "nbformat_minor": 0,
  "metadata": {
    "colab": {
      "name": "SAR - Revision 1.ipynb",
      "provenance": [],
      "authorship_tag": "ABX9TyMRTPfxncsKq+roZGpqKQzZ",
      "include_colab_link": true
    },
    "kernelspec": {
      "name": "python3",
      "display_name": "Python 3"
    },
    "language_info": {
      "name": "python"
    }
  },
  "cells": [
    {
      "cell_type": "markdown",
      "metadata": {
        "id": "view-in-github",
        "colab_type": "text"
      },
      "source": [
        "<a href=\"https://colab.research.google.com/github/psukphranee/SAR/blob/main/SAR_Revision_1.ipynb\" target=\"_parent\"><img src=\"https://colab.research.google.com/assets/colab-badge.svg\" alt=\"Open In Colab\"/></a>"
      ]
    },
    {
      "cell_type": "code",
      "execution_count": 2,
      "metadata": {
        "id": "e25qgIVtqC1X"
      },
      "outputs": [],
      "source": [
        "import matplotlib.pyplot as plt\n",
        "import numpy as np\n",
        "import math\n",
        "import os\n",
        "import scipy.sparse as sp"
      ]
    },
    {
      "cell_type": "markdown",
      "source": [
        "#I. Introduction\n",
        "\n",
        "> A satellite antenna emits a chirp pulse train towards the ground some distance away. The signal has a PRF of 10kHz with 10% duty-time. The signal bounces off of the ground directly back at the antenna. The antenna picks the signal up at a sampling rate of 1GHz. The ground will be model as an LTI system. Thus, the reflected signal is the convolution of the incoming signal (incoming into the ground) with the impulse response of the ground.\n",
        "\n",
        " > This notebook will give a rundown of the principles involved and implementation details and logic using Python. \n",
        "\n",
        " Steps involved are **Pulse Generation**, input into **Ground Model**, and examine the **Output**.\n",
        "\n"
      ],
      "metadata": {
        "id": "QYLUiUWEqHAS"
      }
    },
    {
      "cell_type": "markdown",
      "source": [
        "# II. Pulse Generation\n",
        "\n",
        "The signal is described by\n",
        "\n",
        "$P(t) = \\chi_{\\tau}(t) e^{j 2 \\pi (f_c t + \\frac{1}{2}k t^2)}$,\n",
        "where \n",
        "$\n",
        "\\chi_{\\tau}(t)=\n",
        "    \\begin{cases}\n",
        "        A & \\text{if } t \\in [0, \\tau] \\\\\n",
        "        0 & otherwise\n",
        "    \\end{cases}\n",
        "$\n",
        "\n",
        "## A. Carrier Frequency and Chirp Rate Constraints\n",
        "The **pulse width**, $\\tau$, is calculated as the duty time divided by the pulse repetition frequency,\n",
        "\n",
        "$\n",
        "\\tau = \\dfrac{D}{PRF} = \\dfrac{.1}{10^4} = 10^{-5}s.\n",
        "$\n",
        "\n",
        "We can choose our carrier frequency and chirp rate so that we don't exceed $f_m = 500MHz$ over the pulse duration $\\tau$.\n",
        "\n",
        "$f_c + \\dfrac{10^{-5}}{2}k < 500MHz$."
      ],
      "metadata": {
        "id": "KhcJ953Breyt"
      }
    },
    {
      "cell_type": "code",
      "source": [
        "import ipywidgets as widgets\n",
        "from IPython.display import display\n",
        "button = widgets.Button(description=\"Click Me!\")\n",
        "output = widgets.Output()\n",
        "\n",
        "#@title Pulse Parameters\n",
        "#@markdown Duty Time:  $[\\%]$\n",
        "D = 10 #@param {type:\"slider\", min:0, max:100, step:1}\n",
        "#@markdown Pulse Reptitition Frequency (PRF) $[kHz]$\n",
        "PRF = 1 #@param {type:\"slider\", min:0, max:20, step:1}\n",
        "#@markdown $k:  [\\frac{MHz}{s}]$\n",
        "k = 26 #@param {type:\"slider\", min:0, max:100, step:1}\n",
        "#@markdown Carrier Frequency:  $[MHz]$\n",
        "f_c = 100 #@param {type:\"slider\", min:0, max:500, step:5}\n",
        "#@markdown Sampling Frequency:  $[MHz]$\n",
        "f_s = 30 #@param {type:\"slider\", min:0, max:500, step:5}\n",
        "\n",
        "#scale input parameters by their suffix\n",
        "D = D * .01;\n",
        "PRF = PRF * 10e3;\n",
        "k = k * 10e6;\n",
        "f_c = f_c * 10e6;\n",
        "f_s = f_s * 10e6;\n",
        "\n",
        "#calculate other parameters from input parameters\n",
        "PRT = np.reciprocal(PRF);\n",
        "f_m = f_s/2;\n",
        "tau = D*PRT;\n",
        "\n",
        "#\n",
        "A = 1 #pulse height"
      ],
      "metadata": {
        "cellView": "form",
        "id": "7V0HR_TftXek"
      },
      "execution_count": 3,
      "outputs": []
    },
    {
      "cell_type": "code",
      "source": [
        "# Display the message within the output widget.\n",
        "t_end = PRT*4 #multiple of pulse repittion period\n",
        "t = np.linspace(-1*PRT, t_end, int(f_s*t_end)).reshape(1,-1)\n",
        "t_mod = np.mod(t, PRT)\n",
        "\n",
        "pulse = generate_LFM_Pulse(time_array=t_mod, pulse_width=tau, pulse_height=1, chirp_rate=k, carrier_frequency=f_c)\n",
        "\n",
        "plt.figure(figsize=(16, 12))\n",
        "plt.plot(t[0,:], pulse[0,:], alpha=0.5)\n",
        "plt.show()"
      ],
      "metadata": {
        "colab": {
          "base_uri": "https://localhost:8080/",
          "height": 736
        },
        "id": "ytxxndMf1tsV",
        "outputId": "d9714397-138c-4e14-e321-576c0cffabaa"
      },
      "execution_count": 10,
      "outputs": [
        {
          "output_type": "stream",
          "name": "stderr",
          "text": [
            "/usr/local/lib/python3.7/dist-packages/matplotlib/cbook/__init__.py:1317: ComplexWarning: Casting complex values to real discards the imaginary part\n",
            "  return np.asarray(x, float)\n"
          ]
        },
        {
          "output_type": "display_data",
          "data": {
            "text/plain": [
              "<Figure size 1152x864 with 1 Axes>"
            ],
            "image/png": "[encoded data removed]"
          },
          "metadata": {
            "needs_background": "light"
          }
        }
      ]
    },
    {
      "cell_type": "code",
      "source": [
        "def generate_pulse_envelope(time_array, pulse_width=1e-5, pulse_height=1):\n",
        "  #this function returns pulse envelopes of tau width wide. the left edge of the envelope is located at any zeros of the time array.\n",
        "\n",
        "  t = time_array;\n",
        "  A = pulse_height;\n",
        "  tau = pulse_width; \n",
        "  tau_half = tau/2;\n",
        "\n",
        "  chi = A * (np.abs((t-tau_half)/tau_half) <= 1);\n",
        "\n",
        "  return chi;\n",
        "\n",
        "#---------------------------------------------------------------------------------------------#\n",
        "def generate_pulse_wave(time_array, chirp_rate=0, carrier_frequency=500e6):\n",
        "  #time ---------------\n",
        "  t = time_array #expected time vector should be preprocessed before passed to this function. pulse and envelope start their sequences at times values of zeros.\n",
        "\n",
        "  #LFM  ---------------\n",
        "  k = chirp_rate\n",
        "  f_c = carrier_frequency\n",
        "  # #argument to be passed to exponenetial \n",
        "  exp_arg = 2j*np.pi*(f_c*t + .5*k*(np.square(t)))\n",
        "  LFM = np.exp(exp_arg);\n",
        "\n",
        "  return LFM\n",
        "\n",
        "#---------------------------------------------------------------------------------------------#\n",
        "def generate_LFM_Pulse(time_array, pulse_width=1, pulse_height=1, chirp_rate=1, carrier_frequency=100):\n",
        "  \n",
        "  #time ---------------\n",
        "  t = time_array #expected time vector should be preprocessed before passed to this function. pulse and envelope start their sequences at times values of zeros.\n",
        "\n",
        "  #pulse envelope  ---------------\n",
        "  chi = generate_pulse_envelope(t, pulse_height=pulse_height, pulse_width=pulse_width);\n",
        "\n",
        "  #LFM  ---------------\n",
        "  k = chirp_rate\n",
        "  f_c = carrier_frequency\n",
        "\n",
        "  LFM = generate_pulse_wave(t, k, f_c)\n",
        "\n",
        "  pulse = chi * LFM;\n",
        "\n",
        "  return pulse\n",
        "\n",
        "#---------------------------------------------------------------------------------------------#\n",
        "def plot_train(time_absolute, time_modulus, train):\n",
        "\n",
        "  fig, ax = plt.subplots(2,1, figsize=(20,8))\n",
        "  ax[0].plot(t[0,:], train[0,:], alpha=0.5)\n",
        "  ax[1].plot(t[0,:], t_mod[0,:], alpha=0.5)\n",
        "\n",
        "  # ax[0].set_title(\"Pulse Envelope\")\n",
        "  ax[1].set_title(\"Verify Periodicity\")\n",
        "  plt.show()"
      ],
      "metadata": {
        "id": "vGtblwLiqLLz"
      },
      "execution_count": 4,
      "outputs": []
    },
    {
      "cell_type": "markdown",
      "source": [
        ""
      ],
      "metadata": {
        "id": "bski0nNkqbnF"
      }
    }
  ]
}